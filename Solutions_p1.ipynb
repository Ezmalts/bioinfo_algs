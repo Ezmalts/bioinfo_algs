{
 "cells": [
  {
   "cell_type": "code",
   "execution_count": 1,
   "id": "09b4aed1",
   "metadata": {
    "ExecuteTime": {
     "end_time": "2022-09-05T18:43:40.080127Z",
     "start_time": "2022-09-05T18:43:40.072278Z"
    }
   },
   "outputs": [],
   "source": [
    "import math "
   ]
  },
  {
   "cell_type": "markdown",
   "id": "eb945b87",
   "metadata": {},
   "source": [
    "## Task 1"
   ]
  },
  {
   "cell_type": "code",
   "execution_count": 2,
   "id": "8c84273b",
   "metadata": {
    "ExecuteTime": {
     "end_time": "2022-09-05T18:47:42.571889Z",
     "start_time": "2022-09-05T18:47:42.567237Z"
    }
   },
   "outputs": [],
   "source": [
    "def find_ind(a, b):\n",
    "    ans = []\n",
    "    for i in range(len(b)):\n",
    "        if i + len(a) <= len(b) and b[i:i + len(a)] == a:\n",
    "            ans.append(i)\n",
    "        \n",
    "    return ans"
   ]
  },
  {
   "cell_type": "code",
   "execution_count": 5,
   "id": "a211cc56",
   "metadata": {
    "ExecuteTime": {
     "end_time": "2022-09-05T18:54:53.055736Z",
     "start_time": "2022-09-05T18:54:53.050171Z"
    }
   },
   "outputs": [
    {
     "data": {
      "text/plain": [
       "[1, 3, 9]"
      ]
     },
     "execution_count": 5,
     "metadata": {},
     "output_type": "execute_result"
    }
   ],
   "source": [
    "a = 'ATAT'\n",
    "b = 'GATATATGCATATACTT'\n",
    "\n",
    "find_ind(a, b)"
   ]
  },
  {
   "cell_type": "code",
   "execution_count": null,
   "id": "278e0675",
   "metadata": {},
   "outputs": [],
   "source": []
  }
 ],
 "metadata": {
  "kernelspec": {
   "display_name": "Python 3 (ipykernel)",
   "language": "python",
   "name": "python3"
  },
  "language_info": {
   "codemirror_mode": {
    "name": "ipython",
    "version": 3
   },
   "file_extension": ".py",
   "mimetype": "text/x-python",
   "name": "python",
   "nbconvert_exporter": "python",
   "pygments_lexer": "ipython3",
   "version": "3.9.7"
  }
 },
 "nbformat": 4,
 "nbformat_minor": 5
}
